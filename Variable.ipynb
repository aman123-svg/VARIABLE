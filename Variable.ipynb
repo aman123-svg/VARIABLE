{
  "nbformat": 4,
  "nbformat_minor": 0,
  "metadata": {
    "colab": {
      "provenance": []
    },
    "kernelspec": {
      "name": "python3",
      "display_name": "Python 3"
    },
    "language_info": {
      "name": "python"
    }
  },
  "cells": [
    {
      "cell_type": "markdown",
      "source": [
        "#VARIABLES\n"
      ],
      "metadata": {
        "id": "MQaDyMeH_et7"
      }
    },
    {
      "cell_type": "markdown",
      "source": [
        "1. Which of the following identifier names are invalid and why?\n",
        "\n",
        "(a) Serial_no-\n",
        "(b) 1st_Roo\n",
        "(c) Hundred7\n",
        "(d)Total_Mark3\n",
        "(e) total-Mark3\n",
        "(f) Total Marks'\n",
        "(g) Tru#\n",
        "(h)_Percentag\n",
        "\n",
        "\n",
        "sol-*Invalid identifier names and reasonsX*\n",
        "\n",
        "(b) 1st_Room: Identifiers cannot start with a digit\n",
        "(c) Hundred$: Identifiers cannot contain special characters other than underscore (_)\n",
        "(e)total-Marks: Identifiers cannot contain hyphens (-)\n",
        "(d)Total Marks: identifier cannot contain space\n",
        "(g) True: Identifiers cannot contain spaces or the reserved keyword True.\n",
        "\n",
        "*Valid identifier namesX*\n",
        "\n",
        "(a) Serial_no: Contains an underscore character, which is allowed\n",
        "(d) Total_Marks: Contains an underscore character, which is allowed\n",
        "(h)_Percentag: Starts with an underscore character, which is allowed.\n",
        "\n",
        "\n",
        "2. Write the corresponding Python assignment statements:\n",
        "\n",
        "(a) Assign 10 to variable length and 20 to variable breadth-\n",
        "(b) Assign the average of values of variables length and breadth to a variable sum-\n",
        "(c) Assign a list containing strings 'Paper', 'Gel Pen', and 'Eraser' to a variable stationery-\n",
        "(d) Assign the strings 'Mohandas', 'Karamchand', and 'Gandhi' to variables first, middle and last-\n",
        "(e) Assign the concatenated value of string variables first, middle, and last to variable fullname.\n"
      ],
      "metadata": {
        "id": "IvuCmgF4EINK"
      }
    },
    {
      "cell_type": "code",
      "execution_count": 1,
      "metadata": {
        "id": "KtfgYi0m-LTr"
      },
      "outputs": [],
      "source": [
        "# Assign 10 to variable length and 20 to variable breadth\n",
        "length = 10\n",
        "breadth = 20\n",
        "\n",
        "# Assign the average of values of variables length and breadth to a variable sum\n",
        "sum = (length + breadth) / 2\n",
        "\n",
        "# Assign a list containing strings 'Paper', 'Gel Pen', and 'Eraser' to a variable stationery\n",
        "stationery = ['Paper', 'Gel Pen', 'Eraser']\n",
        "\n",
        "# Assign the strings 'Mohandas', 'Karamchand', and 'Gandhi' to variables first, middle and last\n",
        "first, middle, last = 'Mohandas', 'Karamchand', 'Gandhi'\n",
        "\n",
        "# Assign the concatenated value of string variables first, middle, and last to variable fullname\n",
        "fullname = first + middle + last\n"
      ]
    },
    {
      "cell_type": "markdown",
      "source": [
        "3.What is the difference between static and dynamic variables in Python?\n",
        "\n",
        "sol-1. Static Variables\n",
        "Definition:\n",
        "In Python, static variables are usually class variables—they belong to the class itself, not to individual objects (instances).\n",
        "\n",
        "Behavior:\n",
        "Their value is shared by all objects of that class. Changing the value from one object affects all other objects (unless shadowed by an instance variable).\n",
        "\n",
        "Lifetime:\n",
        "Exists for the entire runtime of the program after being defined in the class."
      ],
      "metadata": {
        "id": "-uF6X1IgHsBO"
      }
    },
    {
      "cell_type": "code",
      "source": [
        "class Example:\n",
        "    static_var = 10  # static variable\n",
        "\n",
        "obj1 = Example()\n",
        "obj2 = Example()\n",
        "\n",
        "print(obj1.static_var)  # 10\n",
        "print(obj2.static_var)  # 10\n",
        "\n",
        "Example.static_var = 20  # change via class\n",
        "print(obj1.static_var)   # 20\n",
        "print(obj2.static_var)   # 20\n"
      ],
      "metadata": {
        "colab": {
          "base_uri": "https://localhost:8080/"
        },
        "id": "tOLZeSvrH_VS",
        "outputId": "312e9515-8738-4913-e5df-ed8d862a9fb9"
      },
      "execution_count": 2,
      "outputs": [
        {
          "output_type": "stream",
          "name": "stdout",
          "text": [
            "10\n",
            "10\n",
            "20\n",
            "20\n"
          ]
        }
      ]
    },
    {
      "cell_type": "markdown",
      "source": [
        "2. Dynamic Variables\n",
        "Definition:\n",
        "These are instance variables or local variables created at runtime. They are unique to each object or scope.\n",
        "\n",
        "Behavior:\n",
        "Each object can have its own separate copy of the variable.\n",
        "\n",
        "Lifetime:\n",
        "Exists only as long as the object or scope exists"
      ],
      "metadata": {
        "id": "AhJ-_hqTIGDW"
      }
    },
    {
      "cell_type": "code",
      "source": [
        "class Example:\n",
        "    def __init__(self, value):\n",
        "        self.dynamic_var = value  # dynamic variable\n",
        "\n",
        "obj1 = Example(10)\n",
        "obj2 = Example(20)\n",
        "\n",
        "print(obj1.dynamic_var)  # 10\n",
        "print(obj2.dynamic_var)  # 20\n"
      ],
      "metadata": {
        "colab": {
          "base_uri": "https://localhost:8080/"
        },
        "id": "r_dWcXkxIJmC",
        "outputId": "9c3435ff-6fa2-4d09-9acc-eba0966b5ada"
      },
      "execution_count": 3,
      "outputs": [
        {
          "output_type": "stream",
          "name": "stdout",
          "text": [
            "10\n",
            "20\n"
          ]
        }
      ]
    },
    {
      "cell_type": "markdown",
      "source": [
        "4.name = [\"Mohan\", \"dash\", \"karam\", \"chandra\",\"gandhi\",\"Bapu\"]\n",
        "do the following operations in this list;\n",
        "(a) add an element \"freedom_fighter\" in this list at the 0th index-\n",
        "(b) find the output of the following ,and explain how?\n"
      ],
      "metadata": {
        "id": "cgjCIgnqIM77"
      }
    },
    {
      "cell_type": "code",
      "source": [
        "name = [\"freedomFighter\", \"Bapuji\", \"MOhan\", \"dash\", \"karam\",\n",
        "        \"chandra\", \"gandhi\"]\n",
        "\n",
        "length1 = len(name[-len(name) + 1 : -1 : 2])\n",
        "length2 = len(name[-len(name) + 1 : -1])\n",
        "\n",
        "print(length1 + length2)\n"
      ],
      "metadata": {
        "colab": {
          "base_uri": "https://localhost:8080/"
        },
        "id": "IJbRV5hZI65F",
        "outputId": "0c14b234-910d-4605-af7e-7338e1309c7d"
      },
      "execution_count": 5,
      "outputs": [
        {
          "output_type": "stream",
          "name": "stdout",
          "text": [
            "8\n"
          ]
        }
      ]
    },
    {
      "cell_type": "markdown",
      "source": [
        "(c) add two more elements in the name [\"NetaJi\",\"Bose\"] at the end of the list-\n",
        "(d) what will be the value of temp:\n",
        "name = [\"Bapuji\", \"dash\", \"karam\", \"chandra\",\"gandi\",\"Mohan\"]\n",
        "temp=name[-1]\n",
        "name[-1]=name[0]\n",
        "name[0]=temp\n",
        "print(name)\n",
        "\n",
        "\n",
        "sol-1. Add \"freedom_fighter\" at the 0th index"
      ],
      "metadata": {
        "id": "LYp4yHqEJRHk"
      }
    },
    {
      "cell_type": "code",
      "source": [
        "name = [\"Mohan\", \"dash\", \"karam\", \"chandra\", \"gandhi\", \"Bapu\"]\n",
        "name.insert(0, \"freedom_fighter\")\n",
        "print(name)\n"
      ],
      "metadata": {
        "colab": {
          "base_uri": "https://localhost:8080/"
        },
        "id": "UEBM-1OPKHir",
        "outputId": "ca9d5c0a-9d9a-41d7-b422-4db069813d4f"
      },
      "execution_count": 6,
      "outputs": [
        {
          "output_type": "stream",
          "name": "stdout",
          "text": [
            "['freedom_fighter', 'Mohan', 'dash', 'karam', 'chandra', 'gandhi', 'Bapu']\n"
          ]
        }
      ]
    },
    {
      "cell_type": "code",
      "source": [
        "['freedom_fighter', 'Mohan', 'dash', 'karam', 'chandra', 'gandhi', 'Bapu']\n"
      ],
      "metadata": {
        "colab": {
          "base_uri": "https://localhost:8080/"
        },
        "id": "uSgNpewIKOij",
        "outputId": "d8781e3d-aec9-4671-ecf8-1f6f78602f71"
      },
      "execution_count": 7,
      "outputs": [
        {
          "output_type": "execute_result",
          "data": {
            "text/plain": [
              "['freedom_fighter', 'Mohan', 'dash', 'karam', 'chandra', 'gandhi', 'Bapu']"
            ]
          },
          "metadata": {},
          "execution_count": 7
        }
      ]
    },
    {
      "cell_type": "markdown",
      "source": [
        "2. Understanding the slicing calculation"
      ],
      "metadata": {
        "id": "hoLDJAa1KUPA"
      }
    },
    {
      "cell_type": "code",
      "source": [
        "name = [\"freedomFighter\", \"Bapuji\", \"MOhan\", \"dash\", \"karam\", \"chandra\", \"gandhi\"]\n",
        "\n",
        "length1 = len(name[-len(name) + 1 : -1 : 2])\n",
        "length2 = len(name[-len(name) + 1 : -1])\n",
        "\n",
        "print(length1 + length2)\n"
      ],
      "metadata": {
        "colab": {
          "base_uri": "https://localhost:8080/"
        },
        "id": "jJbKR52mKVRo",
        "outputId": "252745be-a847-4002-96a0-6f3aeceeb56f"
      },
      "execution_count": 8,
      "outputs": [
        {
          "output_type": "stream",
          "name": "stdout",
          "text": [
            "8\n"
          ]
        }
      ]
    },
    {
      "cell_type": "markdown",
      "source": [
        "3. Add two more elements [\"NetaJi\", \"Bose\"] at the end"
      ],
      "metadata": {
        "id": "nFka3ztVKgke"
      }
    },
    {
      "cell_type": "code",
      "source": [
        "name.extend([\"NetaJi\", \"Bose\"])\n",
        "print(name)\n"
      ],
      "metadata": {
        "colab": {
          "base_uri": "https://localhost:8080/"
        },
        "id": "2G1OZiCkKh5R",
        "outputId": "f38d20c7-9cfc-4215-839b-55fc3d4b0205"
      },
      "execution_count": 9,
      "outputs": [
        {
          "output_type": "stream",
          "name": "stdout",
          "text": [
            "['freedomFighter', 'Bapuji', 'MOhan', 'dash', 'karam', 'chandra', 'gandhi', 'NetaJi', 'Bose']\n"
          ]
        }
      ]
    },
    {
      "cell_type": "code",
      "source": [
        "['freedom_fighter', 'Mohan', 'dash', 'karam', 'chandra', 'gandhi', 'Bapu', 'NetaJi', 'Bose']\n"
      ],
      "metadata": {
        "colab": {
          "base_uri": "https://localhost:8080/"
        },
        "id": "NI4BoPrAKkqM",
        "outputId": "b04ba075-4d3a-494f-eb3b-fb593660403a"
      },
      "execution_count": 10,
      "outputs": [
        {
          "output_type": "execute_result",
          "data": {
            "text/plain": [
              "['freedom_fighter',\n",
              " 'Mohan',\n",
              " 'dash',\n",
              " 'karam',\n",
              " 'chandra',\n",
              " 'gandhi',\n",
              " 'Bapu',\n",
              " 'NetaJi',\n",
              " 'Bose']"
            ]
          },
          "metadata": {},
          "execution_count": 10
        }
      ]
    },
    {
      "cell_type": "markdown",
      "source": [
        "4. Swapping first and last elements"
      ],
      "metadata": {
        "id": "3H4qfDQPKn1S"
      }
    },
    {
      "cell_type": "code",
      "source": [
        "name = [\"Bapuji\", \"dash\", \"karam\", \"chandra\", \"gandi\", \"Mohan\"]\n",
        "\n",
        "temp = name[-1]   # temp = 'Mohan'\n",
        "name[-1] = name[0]  # last becomes 'Bapuji'\n",
        "name[0] = temp      # first becomes 'Mohan'\n",
        "\n",
        "print(name)\n"
      ],
      "metadata": {
        "colab": {
          "base_uri": "https://localhost:8080/"
        },
        "id": "34RvEGJBKrHw",
        "outputId": "c814d488-2e45-42b4-8a67-259f2c47d16d"
      },
      "execution_count": 11,
      "outputs": [
        {
          "output_type": "stream",
          "name": "stdout",
          "text": [
            "['Mohan', 'dash', 'karam', 'chandra', 'gandi', 'Bapuji']\n"
          ]
        }
      ]
    },
    {
      "cell_type": "code",
      "source": [
        "['Mohan', 'dash', 'karam', 'chandra', 'gandi', 'Bapuji']\n"
      ],
      "metadata": {
        "colab": {
          "base_uri": "https://localhost:8080/"
        },
        "id": "_tbZgMjkKtuY",
        "outputId": "d31d5233-90e0-4a72-895e-b0d8e4680593"
      },
      "execution_count": 12,
      "outputs": [
        {
          "output_type": "execute_result",
          "data": {
            "text/plain": [
              "['Mohan', 'dash', 'karam', 'chandra', 'gandi', 'Bapuji']"
            ]
          },
          "metadata": {},
          "execution_count": 12
        }
      ]
    },
    {
      "cell_type": "markdown",
      "source": [
        "5. Find the output of the following.\n",
        "animal = ['Human','cat','mat','cat','rat','Human', 'Lion']\n",
        "print(animal.count('Human'))\n",
        "print(animal.index('rat'))\n",
        "print(len(animal))\n",
        "\n",
        "sol-"
      ],
      "metadata": {
        "id": "lwIaYLjxKwxA"
      }
    },
    {
      "cell_type": "code",
      "source": [
        "2\n",
        "4\n",
        "7\n"
      ],
      "metadata": {
        "colab": {
          "base_uri": "https://localhost:8080/"
        },
        "id": "dIEl106oLIKj",
        "outputId": "bef9a1c2-3431-4d6b-9c34-acf48c97f7cf"
      },
      "execution_count": 13,
      "outputs": [
        {
          "output_type": "execute_result",
          "data": {
            "text/plain": [
              "7"
            ]
          },
          "metadata": {},
          "execution_count": 13
        }
      ]
    },
    {
      "cell_type": "markdown",
      "source": [
        "6.tuple1=(10,20,\"Apple\",3.4,'a',[\"master\",\"ji\"],(\"sita\",\"geeta\",22),[{\"roll_no\":1},{\"name\":\"Navneet\"}]A\n",
        "E, print(len(tuple1)A\n",
        "F, print(tuple1[-1][-1][\"name\"]A\n",
        "], c)fetch the value of roll_no from this tuple,\n",
        "R, d)print(tuple1[-3][1]A\n",
        "c, fetch the element \"22\" from this tuple.\n",
        "\n",
        "sol- (a) & (b)"
      ],
      "metadata": {
        "id": "IP14q7n7LJ0k"
      }
    },
    {
      "cell_type": "code",
      "source": [
        "tuple1 = (10, 20, \"Apple\", 3.4, 'a', [\"master\",\"ji\"], (\"sita\",\"geeta\",22), [{\"roll_no\":1},{\"name\":\"Navneet\"}])\n"
      ],
      "metadata": {
        "id": "NcxfLZ62MLQM"
      },
      "execution_count": 15,
      "outputs": []
    },
    {
      "cell_type": "code",
      "source": [
        "print(tuple1[-2][2])  # Output: 22\n"
      ],
      "metadata": {
        "colab": {
          "base_uri": "https://localhost:8080/"
        },
        "id": "Rf1--wByMazP",
        "outputId": "efffc745-a7e0-4da8-880b-472f58ad1710"
      },
      "execution_count": 17,
      "outputs": [
        {
          "output_type": "stream",
          "name": "stdout",
          "text": [
            "22\n"
          ]
        }
      ]
    },
    {
      "cell_type": "code",
      "source": [
        "print(len(tuple1))                 # 8\n",
        "print(tuple1[-1][-1][\"name\"])       # Navneet\n",
        "print(tuple1[-1][0][\"roll_no\"])     # 1\n",
        "print(tuple1[-3][1])                # ji\n",
        "print(tuple1[-2][2])                # 22\n"
      ],
      "metadata": {
        "colab": {
          "base_uri": "https://localhost:8080/"
        },
        "id": "WGpmxn4dMgQF",
        "outputId": "1a1a9c07-c085-4af5-b023-8e66a5017599"
      },
      "execution_count": 19,
      "outputs": [
        {
          "output_type": "stream",
          "name": "stdout",
          "text": [
            "8\n",
            "Navneet\n",
            "1\n",
            "ji\n",
            "22\n"
          ]
        }
      ]
    },
    {
      "cell_type": "markdown",
      "source": [
        "(7) What are the three main types of number data types in Python?\n",
        "\n",
        "sol-1. Three main numeric data types in Python\n",
        "int → Integer values (whole numbers)\n",
        "\n",
        "float → Decimal numbers (floating-point values)\n",
        "\n",
        "complex → Numbers with a real and imaginary part\n",
        "\n",
        "(8) Give examples of each of the numeric data types mentioned.\n",
        "\n",
        "sol-"
      ],
      "metadata": {
        "id": "f0LdEwb-MoKU"
      }
    },
    {
      "cell_type": "code",
      "source": [
        "x = 10        # int\n",
        "y = 3.14      # float\n",
        "z = 2 + 5j    # complex\n"
      ],
      "metadata": {
        "id": "sqo4IO9COQ2V"
      },
      "execution_count": 20,
      "outputs": []
    },
    {
      "cell_type": "markdown",
      "source": [
        "(9) How is the boolean data type related to the integer data type in Python?\n",
        "\n",
        "sol- Boolean data type relation to integer\n",
        "In Python, bool is a subclass of int.\n",
        "\n",
        "True behaves like 1 and False behaves like 0"
      ],
      "metadata": {
        "id": "9NHglidCOWH2"
      }
    },
    {
      "cell_type": "code",
      "source": [
        "True + 5    # Output: 6\n",
        "False * 10  # Output: 0\n"
      ],
      "metadata": {
        "colab": {
          "base_uri": "https://localhost:8080/"
        },
        "id": "F8HBdZTUOgjr",
        "outputId": "532a51a3-e44d-49ab-c0e0-f4f83a0a2209"
      },
      "execution_count": 21,
      "outputs": [
        {
          "output_type": "execute_result",
          "data": {
            "text/plain": [
              "0"
            ]
          },
          "metadata": {},
          "execution_count": 21
        }
      ]
    },
    {
      "cell_type": "markdown",
      "source": [
        "(10) What is the special significance of the boolean values True and False?\n",
        "\n",
        "sol-Special significance of True and False\n",
        "They are constants that represent truth values.\n",
        "\n",
        "Used in conditions, loops, and logic operations.\n",
        "\n",
        "Internally, True == 1 and False == 0.\n",
        "\n",
        "(11) Explain the concept of sequence data types in Python.\n",
        "\n",
        "sol-Concept of sequence data types\n",
        "A sequence is an ordered collection of elements.\n",
        "\n",
        "Supports indexing, slicing, and iteration.\n",
        "\n",
        "Examples: list, tuple, string, range.\n",
        "\n",
        "(12) What is the primary difference between a list and a tuple in Python?\n",
        "\n",
        "sol-Difference between list and tuple\n",
        "Feature\t    List\t                Tuple\n",
        "Mutability\tMutable (can change)\tImmutable (cannot change)\n",
        "Syntax\t    [ ]\t                  ( )\n",
        "Speed\t      Slower               \tFaster\n",
        "\n",
        "(13) What is a set in Python, and what distinguishes it from a list?\n",
        "\n",
        "soln-Set → Unordered, mutable collection of unique elements.\n",
        "\n",
        "Unlike lists, sets do not allow duplicates and have no index positions."
      ],
      "metadata": {
        "id": "0XZ31lzAOj6o"
      }
    },
    {
      "cell_type": "code",
      "source": [
        "s = {1, 2, 3, 3}  # {1, 2, 3}\n"
      ],
      "metadata": {
        "id": "0Hruu1RwPmql"
      },
      "execution_count": 22,
      "outputs": []
    },
    {
      "cell_type": "markdown",
      "source": [
        "(14) Explain the purpose of using the None data type in Python.\n",
        "sol- None is a special constant representing the absence of a value.\n",
        "\n",
        "Used as a placeholder or default value for variables and function returns.\n",
        "Example:"
      ],
      "metadata": {
        "id": "lUop2lJyPpke"
      }
    },
    {
      "cell_type": "code",
      "source": [
        "result = None\n",
        "if result is None:\n",
        "    print(\"No result yet.\")\n"
      ],
      "metadata": {
        "colab": {
          "base_uri": "https://localhost:8080/"
        },
        "id": "sHMc3c0MP41k",
        "outputId": "f8d1ee6e-4d97-4c1c-c82e-7992a26bbca9"
      },
      "execution_count": 23,
      "outputs": [
        {
          "output_type": "stream",
          "name": "stdout",
          "text": [
            "No result yet.\n"
          ]
        }
      ]
    },
    {
      "cell_type": "markdown",
      "source": [
        "(15) How is a dictionary different from other data types in Python?\n",
        "\n",
        "sol-Stores key-value pairs instead of single values.\n",
        "\n",
        "Keys must be unique and immutable.\n",
        "\n",
        "Access values by keys instead of indexes.\n",
        "\n",
        "(16) Describe the syntax for creating a dictionary in Python."
      ],
      "metadata": {
        "id": "1o6Nvu_VP71n"
      }
    },
    {
      "cell_type": "code",
      "source": [
        "my_dict = {\n",
        "    \"name\": \"Alice\",\n",
        "    \"age\": 25,\n",
        "    \"city\": \"New York\"\n",
        "}\n"
      ],
      "metadata": {
        "id": "F88-gqTCQB3v"
      },
      "execution_count": 24,
      "outputs": []
    },
    {
      "cell_type": "markdown",
      "source": [
        "(17) What is the significance of keys and values in a dictionary?\n",
        "\n",
        "soln-Keys → identifiers for data, must be unique and immutable.\n",
        "\n",
        "Values → actual data linked to keys, can be of any type.\n",
        "\n",
        "(18) Explain the purpose of pop, popitem, and clear in a dictionary with suitable examples.\n",
        "\n",
        "sol-"
      ],
      "metadata": {
        "id": "lxbutrlhQErc"
      }
    },
    {
      "cell_type": "code",
      "source": [
        "my_dict = {\"name\": \"Alice\", \"age\": 25, \"city\": \"New York\"}\n",
        "\n",
        "my_dict.pop(\"age\")     # Removes key \"age\", returns 25\n",
        "my_dict.popitem()      # Removes and returns last inserted key-value pair\n",
        "my_dict.clear()        # Removes all items, dictionary becomes {}\n"
      ],
      "metadata": {
        "id": "za3T5ugWQKVu"
      },
      "execution_count": 25,
      "outputs": []
    },
    {
      "cell_type": "markdown",
      "source": [
        "(19) Difference between discard and remove (in sets).\n",
        "\n",
        "soln-remove(item) → removes the element; raises an error if not found.\n",
        "\n",
        "discard(item) → removes the element; does nothing if not found.\n",
        "Example:\n"
      ],
      "metadata": {
        "id": "zzjZM1uzQOxB"
      }
    },
    {
      "cell_type": "code",
      "source": [
        "s = {1, 2, 3}\n",
        "s.remove(2)   # Works\n",
        "# s.remove(5) → KeyError\n",
        "s.discard(5)  # No error\n"
      ],
      "metadata": {
        "id": "Bwuhjj4DQUvO"
      },
      "execution_count": 26,
      "outputs": []
    },
    {
      "cell_type": "markdown",
      "source": [
        "(20) What do you mean by FrozenSet? Explain with suitable examples.\n",
        "\n",
        "soln-FrozenSet → immutable version of a set.\n",
        "\n",
        "Cannot add or remove elements after creation.\n",
        "Example:"
      ],
      "metadata": {
        "id": "ExTWfzsTQgEc"
      }
    },
    {
      "cell_type": "code",
      "source": [
        "fs = frozenset([1, 2, 3])\n",
        "# fs.add(4) → Error (immutable)\n",
        "print(fs)  # frozenset({1, 2, 3})\n"
      ],
      "metadata": {
        "colab": {
          "base_uri": "https://localhost:8080/"
        },
        "id": "3D62l30mQk53",
        "outputId": "b6f9375f-376d-4996-b816-5e8f88752bf2"
      },
      "execution_count": 27,
      "outputs": [
        {
          "output_type": "stream",
          "name": "stdout",
          "text": [
            "frozenset({1, 2, 3})\n"
          ]
        }
      ]
    },
    {
      "cell_type": "markdown",
      "source": [
        "(21) Differentiate between mutable and immutable data types in Python with examples.\n",
        "\n",
        "soln-Mutable (Can change)\tImmutable (Cannot change)\n",
        "list, dict, set\tint, float, str, tuple, frozenset\n",
        "Example: my_list.append(4) changes list\tExample: \"abc\" + \"d\" creates new string"
      ],
      "metadata": {
        "id": "xOVLflIAQn95"
      }
    }
  ]
}